{
 "cells": [
  {
   "cell_type": "code",
   "execution_count": null,
   "metadata": {},
   "outputs": [],
   "source": [
    "n = 10\n",
    "fibs = []\n",
    "\n",
    "x, y = 1,1\n",
    "for _ in range(n):\n",
    "    fibs.append(x)\n",
    "    x,y = y, x + y\n",
    "    \n",
    "fibs"
   ]
  },
  {
   "cell_type": "code",
   "execution_count": null,
   "metadata": {},
   "outputs": [],
   "source": [
    "def fibs(n: int) -> [int]:\n",
    "    return list(map(fib, range(n)))\n",
    "\n",
    "def fib(n, x=1, y=1):\n",
    "    if n == 0:\n",
    "        return x\n",
    "    else:\n",
    "        return fib(n - 1, x, x + y)\n",
    "\n",
    "fibs(9)"
   ]
  },
  {
   "cell_type": "code",
   "execution_count": null,
   "metadata": {},
   "outputs": [],
   "source": [
    "def fibs(n, lst=[]):\n",
    "    if n == 0:\n",
    "        return lst\n",
    "    elif len(lst) <= 1:\n",
    "        return fibs(n - 1, [*lst, 1])\n",
    "    else:\n",
    "        return fibs(n - 1, [*lst, lst[-1] + lst[-2]])\n",
    "    \n",
    "fibs(10)"
   ]
  },
  {
   "cell_type": "code",
   "execution_count": null,
   "metadata": {},
   "outputs": [],
   "source": [
    "[1, 2, 3, 4, 5]\n",
    "\n",
    "(1, (2, (3, (4, (5, None)))))"
   ]
  },
  {
   "cell_type": "code",
   "execution_count": null,
   "metadata": {},
   "outputs": [],
   "source": [
    "def fibs(n, lst=None):\n",
    "    if n == 0:\n",
    "        return reverse(lst)\n",
    "    elif length(lst) <= 1:\n",
    "        return fibs(n - 1, (1, lst))\n",
    "    else:\n",
    "        y, rest = lst\n",
    "        x, _ = rest\n",
    "        return fibs(n - 1, (y + x, lst))\n",
    "    \n",
    "def length(lst):\n",
    "    if lst is None:\n",
    "        return 0\n",
    "    else:\n",
    "        car, cdr = lst\n",
    "        return 1 + length(cdr)\n",
    "\n",
    "def reverse(lst, aux=None):\n",
    "    if lst is None:\n",
    "        return aux\n",
    "    else:\n",
    "        car, cdr = lst\n",
    "        return reverse(cdr, (car, aux))\n",
    "    \n",
    "    \n",
    "fibs(10)"
   ]
  },
  {
   "cell_type": "code",
   "execution_count": null,
   "metadata": {},
   "outputs": [],
   "source": []
  }
 ],
 "metadata": {
  "kernelspec": {
   "display_name": "Python 3",
   "language": "python",
   "name": "python3"
  },
  "language_info": {
   "codemirror_mode": {
    "name": "ipython",
    "version": 3
   },
   "file_extension": ".py",
   "mimetype": "text/x-python",
   "name": "python",
   "nbconvert_exporter": "python",
   "pygments_lexer": "ipython3",
   "version": "3.6.5"
  }
 },
 "nbformat": 4,
 "nbformat_minor": 2
}
