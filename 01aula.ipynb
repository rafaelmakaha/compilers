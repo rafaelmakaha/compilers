{
 "cells": [
  {
   "cell_type": "code",
   "execution_count": null,
   "metadata": {},
   "outputs": [],
   "source": [
    "# st = '(+ 1  2)'\n",
    "# st = '(+ 1 2 (sqrt 4))'\n",
    "# st = '(+ 1 (sqrt 4))'\n",
    "st = '(if ( < x 2) 42 0)'\n",
    "# st = '(lambda (x y) (+ 1 2))' # lambda no cheme\n",
    "# eval_scheme(st)"
   ]
  },
  {
   "cell_type": "code",
   "execution_count": null,
   "metadata": {},
   "outputs": [],
   "source": [
    "import math\n",
    "import operator as op\n",
    "from collections import deque, ChainMap\n",
    "\n",
    "Symbol = str\n",
    "\n",
    "default_context = {\n",
    "#     '+': lambda x, y: x + y,\n",
    "#     '-': lambda x, y: x - y,\n",
    "#     '*': lambda x, y: x * y,\n",
    "#     '/': lambda x, y: x / y,\n",
    "    '+': op.add,\n",
    "    '-': op.sub,\n",
    "    '*': op.mul,\n",
    "    '/': op.truediv,\n",
    "    '<': op.lt,\n",
    "    '<=': op.le,\n",
    "    'if': lambda cond, true, false: true if cond else false,\n",
    "    'lambda': ...,\n",
    "    'sqrt': math.sqrt,\n",
    "}\n",
    "\n",
    "# parse = analise sintatica. Pegar uma string e converter em uma estrutura util.\n",
    "def eval_scheme(st, ctx=default_context):\n",
    "    # AST: Abstract Syntax Tree\n",
    "    ast = parse(st) \n",
    "    return run_ast(ast)\n",
    "\n",
    "def parse(str):\n",
    "    tokens = lex(st)\n",
    "    return parse_tokens(deque(tokens))\n",
    "\n",
    "def lex(st):\n",
    "    return st.replace('(', ' ( ').replace(')', ' ) ').split()\n",
    "    #\"( ) ( 41234 2134 23 sqrt foo-bar + - \"\n",
    "\n",
    "def parse_tokens(tokens):\n",
    "    if tokens[0] == '(':\n",
    "        del tokens[0]\n",
    "        result = []\n",
    "        \n",
    "        while tokens[0] != ')':\n",
    "            result.append(parse_tokens(tokens))\n",
    "        del tokens[0]\n",
    "        return result\n",
    "    try:\n",
    "        result = float(tokens[0])\n",
    "        del tokens[0]\n",
    "        return result\n",
    "    \n",
    "    except ValueError:\n",
    "        return deque(tokens).popleft()"
   ]
  },
  {
   "cell_type": "code",
   "execution_count": null,
   "metadata": {},
   "outputs": [],
   "source": [
    "lex(st)"
   ]
  },
  {
   "cell_type": "code",
   "execution_count": null,
   "metadata": {},
   "outputs": [],
   "source": [
    "parse_tokens(lex(st))"
   ]
  },
  {
   "cell_type": "code",
   "execution_count": null,
   "metadata": {},
   "outputs": [],
   "source": [
    "eval('x + 2', {'x': 40})"
   ]
  },
  {
   "cell_type": "code",
   "execution_count": null,
   "metadata": {},
   "outputs": [],
   "source": [
    "def run_ast(ast, ctx):\n",
    "    if isinstance(ast, (float, int)):\n",
    "        return ast\n",
    "    elif isinstance(ast, Symbol):\n",
    "        try:\n",
    "            return ctx[ast]\n",
    "        except KeyError:\n",
    "            raise NameError(f'unknow variable: {ast}') #format string. string interpoladora\n",
    "            \n",
    "    head, *args = ast\n",
    "    if head == 'lambda':\n",
    "        arg_names, body = args\n",
    "        \n",
    "        def function(*args_values):\n",
    "            local = dict(zip(arg_names, arg_values))\n",
    "            new_ctx = ChainMap(local, ctx)\n",
    "            return run_ast(body, new_ctx)\n",
    "        return function\n",
    "            \n",
    "    else:\n",
    "        func = run_ast(head, ctx)\n",
    "        args = [run_ast(arg, ctx) for arg in args]\n",
    "        return func(*args)\n",
    "        \n",
    "        \n",
    "f = run_ast(parse(st), {'x': 10, **default_context})\n",
    "f(40, 2)"
   ]
  },
  {
   "cell_type": "markdown",
   "metadata": {},
   "source": [
    "## Python tricks examples below"
   ]
  },
  {
   "cell_type": "code",
   "execution_count": null,
   "metadata": {},
   "outputs": [],
   "source": [
    "lst = [1,2,3,4,5,6]\n",
    "x, y, *rest = lst\n",
    "x, y, rest"
   ]
  },
  {
   "cell_type": "code",
   "execution_count": null,
   "metadata": {},
   "outputs": [],
   "source": [
    "lst = [1, 2]\n",
    "[3,4, *lst, lst, 5,6]"
   ]
  },
  {
   "cell_type": "code",
   "execution_count": null,
   "metadata": {},
   "outputs": [],
   "source": [
    "args = [1,2,3,4]\n",
    "args_ = []\n",
    "for x in args:\n",
    "    args_.append(x**2)\n",
    "\n",
    "[x**2 for x in args]"
   ]
  },
  {
   "cell_type": "code",
   "execution_count": null,
   "metadata": {},
   "outputs": [],
   "source": [
    "args = [1,2]\n",
    "def add(x,y):\n",
    "    return x + y\n",
    "add(1,2)\n",
    "add(x=1,y=2)\n",
    "add(args[0], args[1])\n",
    "add(*args)"
   ]
  },
  {
   "cell_type": "code",
   "execution_count": null,
   "metadata": {},
   "outputs": [],
   "source": [
    "arg_names = ['x', 'y']\n",
    "arg_values = [1, 2]\n",
    "# quero que vire isso: {'x': 1, 'y', 2}\n",
    "\n",
    "dict(zip(arg_names, arg_values))"
   ]
  },
  {
   "cell_type": "code",
   "execution_count": null,
   "metadata": {},
   "outputs": [],
   "source": [
    "#unir dois dicionarios\n",
    "arg_names = ['x', 'y']\n",
    "arg_values = [1, 2]\n",
    "\n",
    "dic1 = dict(zip(arg_names, arg_values))\n",
    "dic2 = default_context\n",
    "\n",
    "{**dic1, **dic2} #Essa maneira não é muito eficiente, pois é muito custo dependendo do dic\n",
    "# Também não altera o dicionario, apenas gera um novo\n",
    "\n",
    "\n",
    "# Essa maneira, suja o contexto, pois joga as variaveis sempre para o escopo global\n",
    "# dic2.update(dic1)\n",
    "# dic2\n",
    "\n",
    "cm = ChainMap(dic1, dic2)\n",
    "# cm\n"
   ]
  },
  {
   "cell_type": "code",
   "execution_count": null,
   "metadata": {},
   "outputs": [],
   "source": []
  }
 ],
 "metadata": {
  "kernelspec": {
   "display_name": "Python 3",
   "language": "python",
   "name": "python3"
  },
  "language_info": {
   "codemirror_mode": {
    "name": "ipython",
    "version": 3
   },
   "file_extension": ".py",
   "mimetype": "text/x-python",
   "name": "python",
   "nbconvert_exporter": "python",
   "pygments_lexer": "ipython3",
   "version": "3.6.5"
  }
 },
 "nbformat": 4,
 "nbformat_minor": 2
}
