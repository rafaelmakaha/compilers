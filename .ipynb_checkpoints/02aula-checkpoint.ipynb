{
 "cells": [
  {
   "cell_type": "code",
   "execution_count": 145,
   "metadata": {},
   "outputs": [],
   "source": [
    "# st = '(+ 1  2)'\n",
    "# st = '(+ 1 2 (sqrt 4))'\n",
    "# st = '(+ 1 (sqrt 4))'\n",
    "# st = '(if ( < x 2) 42 0)'\n",
    "st = '(lambda (x y) (+ 1 2))' # lambda no cheme\n",
    "# eval_scheme(st)"
   ]
  },
  {
   "cell_type": "code",
   "execution_count": 151,
   "metadata": {},
   "outputs": [],
   "source": [
    "import math\n",
    "import operator as op\n",
    "from collections import deque, ChainMap\n",
    "\n",
    "Symbol = str\n",
    "\n",
    "default_context = {\n",
    "#     '+': lambda x, y: x + y,\n",
    "#     '-': lambda x, y: x - y,\n",
    "#     '*': lambda x, y: x * y,\n",
    "#     '/': lambda x, y: x / y,\n",
    "    '+': op.add,\n",
    "    '-': op.sub,\n",
    "    '*': op.mul,\n",
    "    '/': op.truediv,\n",
    "    '<': op.lt,\n",
    "    '<=': op.le,\n",
    "    'if': lambda cond, true, false: true if cond else false,\n",
    "    'lambda': ...,\n",
    "    'sqrt': math.sqrt,\n",
    "}\n",
    "\n",
    "# parse = analise sintatica. Pegar uma string e converter em uma estrutura util.\n",
    "def eval_scheme(st, ctx=default_context):\n",
    "    # AST: Abstract Syntax Tree\n",
    "    ast = parse(st) \n",
    "    return run_ast(ast)\n",
    "\n",
    "def parse(str):\n",
    "    tokens = lex(st)\n",
    "    return parse_tokens(deque(tokens))\n",
    "\n",
    "def lex(st):\n",
    "    return st.replace('(', ' ( ').replace(')', ' ) ').split()\n",
    "    #\"( ) ( 41234 2134 23 sqrt foo-bar + - \"\n",
    "\n",
    "def parse_tokens(tokens):\n",
    "    if tokens[0] == '(':\n",
    "        del tokens[0]\n",
    "        result = []\n",
    "        \n",
    "        while tokens[0] != ')':\n",
    "            result.append(parse_tokens(tokens))\n",
    "        del tokens[0]\n",
    "        return result\n",
    "    try:\n",
    "        result = float(tokens[0])\n",
    "        del tokens[0]\n",
    "        return result\n",
    "    \n",
    "    except ValueError:\n",
    "        return tokens.popleft()"
   ]
  },
  {
   "cell_type": "code",
   "execution_count": 152,
   "metadata": {},
   "outputs": [
    {
     "data": {
      "text/plain": [
       "['(', 'lambda', '(', 'x', 'y', ')', '(', '+', '1', '2', ')', ')']"
      ]
     },
     "execution_count": 152,
     "metadata": {},
     "output_type": "execute_result"
    }
   ],
   "source": [
    "lex(st)"
   ]
  },
  {
   "cell_type": "code",
   "execution_count": 153,
   "metadata": {},
   "outputs": [
    {
     "ename": "AttributeError",
     "evalue": "'list' object has no attribute 'popleft'",
     "output_type": "error",
     "traceback": [
      "\u001b[0;31m---------------------------------------------------------------------------\u001b[0m",
      "\u001b[0;31mValueError\u001b[0m                                Traceback (most recent call last)",
      "\u001b[0;32m<ipython-input-151-f043e525a513>\u001b[0m in \u001b[0;36mparse_tokens\u001b[0;34m(tokens)\u001b[0m\n\u001b[1;32m     46\u001b[0m     \u001b[0;32mtry\u001b[0m\u001b[0;34m:\u001b[0m\u001b[0;34m\u001b[0m\u001b[0m\n\u001b[0;32m---> 47\u001b[0;31m         \u001b[0mresult\u001b[0m \u001b[0;34m=\u001b[0m \u001b[0mfloat\u001b[0m\u001b[0;34m(\u001b[0m\u001b[0mtokens\u001b[0m\u001b[0;34m[\u001b[0m\u001b[0;36m0\u001b[0m\u001b[0;34m]\u001b[0m\u001b[0;34m)\u001b[0m\u001b[0;34m\u001b[0m\u001b[0m\n\u001b[0m\u001b[1;32m     48\u001b[0m         \u001b[0;32mdel\u001b[0m \u001b[0mtokens\u001b[0m\u001b[0;34m[\u001b[0m\u001b[0;36m0\u001b[0m\u001b[0;34m]\u001b[0m\u001b[0;34m\u001b[0m\u001b[0m\n",
      "\u001b[0;31mValueError\u001b[0m: could not convert string to float: 'lambda'",
      "\nDuring handling of the above exception, another exception occurred:\n",
      "\u001b[0;31mAttributeError\u001b[0m                            Traceback (most recent call last)",
      "\u001b[0;32m<ipython-input-153-f4f46a9f7761>\u001b[0m in \u001b[0;36m<module>\u001b[0;34m()\u001b[0m\n\u001b[0;32m----> 1\u001b[0;31m \u001b[0mparse_tokens\u001b[0m\u001b[0;34m(\u001b[0m\u001b[0mlex\u001b[0m\u001b[0;34m(\u001b[0m\u001b[0mst\u001b[0m\u001b[0;34m)\u001b[0m\u001b[0;34m)\u001b[0m\u001b[0;34m\u001b[0m\u001b[0m\n\u001b[0m",
      "\u001b[0;32m<ipython-input-151-f043e525a513>\u001b[0m in \u001b[0;36mparse_tokens\u001b[0;34m(tokens)\u001b[0m\n\u001b[1;32m     41\u001b[0m \u001b[0;34m\u001b[0m\u001b[0m\n\u001b[1;32m     42\u001b[0m         \u001b[0;32mwhile\u001b[0m \u001b[0mtokens\u001b[0m\u001b[0;34m[\u001b[0m\u001b[0;36m0\u001b[0m\u001b[0;34m]\u001b[0m \u001b[0;34m!=\u001b[0m \u001b[0;34m')'\u001b[0m\u001b[0;34m:\u001b[0m\u001b[0;34m\u001b[0m\u001b[0m\n\u001b[0;32m---> 43\u001b[0;31m             \u001b[0mresult\u001b[0m\u001b[0;34m.\u001b[0m\u001b[0mappend\u001b[0m\u001b[0;34m(\u001b[0m\u001b[0mparse_tokens\u001b[0m\u001b[0;34m(\u001b[0m\u001b[0mtokens\u001b[0m\u001b[0;34m)\u001b[0m\u001b[0;34m)\u001b[0m\u001b[0;34m\u001b[0m\u001b[0m\n\u001b[0m\u001b[1;32m     44\u001b[0m         \u001b[0;32mdel\u001b[0m \u001b[0mtokens\u001b[0m\u001b[0;34m[\u001b[0m\u001b[0;36m0\u001b[0m\u001b[0;34m]\u001b[0m\u001b[0;34m\u001b[0m\u001b[0m\n\u001b[1;32m     45\u001b[0m         \u001b[0;32mreturn\u001b[0m \u001b[0mresult\u001b[0m\u001b[0;34m\u001b[0m\u001b[0m\n",
      "\u001b[0;32m<ipython-input-151-f043e525a513>\u001b[0m in \u001b[0;36mparse_tokens\u001b[0;34m(tokens)\u001b[0m\n\u001b[1;32m     50\u001b[0m \u001b[0;34m\u001b[0m\u001b[0m\n\u001b[1;32m     51\u001b[0m     \u001b[0;32mexcept\u001b[0m \u001b[0mValueError\u001b[0m\u001b[0;34m:\u001b[0m\u001b[0;34m\u001b[0m\u001b[0m\n\u001b[0;32m---> 52\u001b[0;31m         \u001b[0;32mreturn\u001b[0m \u001b[0mtokens\u001b[0m\u001b[0;34m.\u001b[0m\u001b[0mpopleft\u001b[0m\u001b[0;34m(\u001b[0m\u001b[0;34m)\u001b[0m\u001b[0;34m\u001b[0m\u001b[0m\n\u001b[0m",
      "\u001b[0;31mAttributeError\u001b[0m: 'list' object has no attribute 'popleft'"
     ]
    }
   ],
   "source": [
    "parse_tokens(lex(st))"
   ]
  },
  {
   "cell_type": "code",
   "execution_count": 154,
   "metadata": {},
   "outputs": [
    {
     "data": {
      "text/plain": [
       "42"
      ]
     },
     "execution_count": 154,
     "metadata": {},
     "output_type": "execute_result"
    }
   ],
   "source": [
    "eval('x + 2', {'x': 40})"
   ]
  },
  {
   "cell_type": "code",
   "execution_count": 156,
   "metadata": {},
   "outputs": [
    {
     "data": {
      "text/plain": [
       "3.0"
      ]
     },
     "execution_count": 156,
     "metadata": {},
     "output_type": "execute_result"
    }
   ],
   "source": [
    "def run_ast(ast, ctx):\n",
    "    if isinstance(ast, (float, int)):\n",
    "        return ast\n",
    "    elif isinstance(ast, Symbol):\n",
    "        try:\n",
    "            return ctx[ast]\n",
    "        except KeyError:\n",
    "            raise NameError(f'unknow variable: {ast}') #format string. string interpoladora\n",
    "            \n",
    "    head, *args = ast\n",
    "    if head == 'lambda':\n",
    "        arg_names, body = args\n",
    "        \n",
    "        def function(*args_values):\n",
    "            local = dict(zip(arg_names, arg_values))\n",
    "            new_ctx = ChainMap(local, ctx)\n",
    "            return run_ast(body, new_ctx)\n",
    "        return function\n",
    "            \n",
    "    else:\n",
    "        func = run_ast(head, ctx)\n",
    "        args = [run_ast(arg, ctx) for arg in args]\n",
    "        return func(*args)\n",
    "        \n",
    "        \n",
    "f = run_ast(parse(st), {'x': 10, **default_context})\n",
    "f(40, 2)"
   ]
  },
  {
   "cell_type": "code",
   "execution_count": 43,
   "metadata": {},
   "outputs": [
    {
     "data": {
      "text/plain": [
       "(1, 2, [3, 4, 5, 6])"
      ]
     },
     "execution_count": 43,
     "metadata": {},
     "output_type": "execute_result"
    }
   ],
   "source": [
    "lst = [1,2,3,4,5,6]\n",
    "x, y, *rest = lst\n",
    "x, y, rest"
   ]
  },
  {
   "cell_type": "code",
   "execution_count": 44,
   "metadata": {},
   "outputs": [
    {
     "data": {
      "text/plain": [
       "[3, 4, 1, 2, [1, 2], 5, 6]"
      ]
     },
     "execution_count": 44,
     "metadata": {},
     "output_type": "execute_result"
    }
   ],
   "source": [
    "lst = [1, 2]\n",
    "[3,4, *lst, lst, 5,6]"
   ]
  },
  {
   "cell_type": "code",
   "execution_count": 47,
   "metadata": {},
   "outputs": [
    {
     "data": {
      "text/plain": [
       "[1, 4, 9, 16]"
      ]
     },
     "execution_count": 47,
     "metadata": {},
     "output_type": "execute_result"
    }
   ],
   "source": [
    "args = [1,2,3,4]\n",
    "args_ = []\n",
    "for x in args:\n",
    "    args_.append(x**2)\n",
    "\n",
    "[x**2 for x in args]"
   ]
  },
  {
   "cell_type": "code",
   "execution_count": 49,
   "metadata": {},
   "outputs": [
    {
     "data": {
      "text/plain": [
       "3"
      ]
     },
     "execution_count": 49,
     "metadata": {},
     "output_type": "execute_result"
    }
   ],
   "source": [
    "args = [1,2]\n",
    "def add(x,y):\n",
    "    return x + y\n",
    "add(1,2)\n",
    "add(x=1,y=2)\n",
    "add(args[0], args[1])\n",
    "add(*args)"
   ]
  },
  {
   "cell_type": "code",
   "execution_count": 108,
   "metadata": {},
   "outputs": [
    {
     "data": {
      "text/plain": [
       "{'x': 1, 'y': 2}"
      ]
     },
     "execution_count": 108,
     "metadata": {},
     "output_type": "execute_result"
    }
   ],
   "source": [
    "arg_names = ['x', 'y']\n",
    "arg_values = [1, 2]\n",
    "# quero que vire isso: {'x': 1, 'y', 2}\n",
    "\n",
    "dict(zip(arg_names, arg_values))"
   ]
  },
  {
   "cell_type": "code",
   "execution_count": 137,
   "metadata": {},
   "outputs": [
    {
     "data": {
      "text/plain": [
       "ChainMap({'x': 1, 'y': 2}, {'+': <built-in function add>, '-': <built-in function sub>, '*': <built-in function mul>, '/': <built-in function truediv>, '<': <built-in function lt>, '<=': <built-in function le>, 'if': <function <lambda> at 0x7fab0802aea0>, 'lambda': Ellipsis, 'sqrt': <built-in function sqrt>})"
      ]
     },
     "execution_count": 137,
     "metadata": {},
     "output_type": "execute_result"
    }
   ],
   "source": [
    "#unir dois dicionarios\n",
    "arg_names = ['x', 'y']\n",
    "arg_values = [1, 2]\n",
    "\n",
    "dic1 = dict(zip(arg_names, arg_values))\n",
    "dic2 = default_context\n",
    "\n",
    "{**dic1, **dic2} #Essa maneira não é muito eficiente, pois é muito custo dependendo do dic\n",
    "# Também não altera o dicionario, apenas gera um novo\n",
    "\n",
    "\n",
    "# Essa maneira, suja o contexto, pois joga as variaveis sempre para o escopo global\n",
    "# dic2.update(dic1)\n",
    "# dic2\n",
    "\n",
    "cm = ChainMap(dic1, dic2)\n",
    "# cm\n"
   ]
  },
  {
   "cell_type": "code",
   "execution_count": null,
   "metadata": {},
   "outputs": [],
   "source": []
  }
 ],
 "metadata": {
  "kernelspec": {
   "display_name": "Python 3",
   "language": "python",
   "name": "python3"
  },
  "language_info": {
   "codemirror_mode": {
    "name": "ipython",
    "version": 3
   },
   "file_extension": ".py",
   "mimetype": "text/x-python",
   "name": "python",
   "nbconvert_exporter": "python",
   "pygments_lexer": "ipython3",
   "version": "3.6.5"
  }
 },
 "nbformat": 4,
 "nbformat_minor": 2
}
